{
  "nbformat": 4,
  "nbformat_minor": 0,
  "metadata": {
    "colab": {
      "name": "Pratishtha_Assignment1_Language_Modelling.ipynb",
      "provenance": [],
      "collapsed_sections": [],
      "authorship_tag": "ABX9TyNW751QmJybjeedUdLmE4nr",
      "include_colab_link": true
    },
    "kernelspec": {
      "name": "python3",
      "display_name": "Python 3"
    },
    "language_info": {
      "name": "python"
    }
  },
  "cells": [
    {
      "cell_type": "markdown",
      "metadata": {
        "id": "view-in-github",
        "colab_type": "text"
      },
      "source": [
        "<a href=\"https://colab.research.google.com/github/pratishthaa/LeanIn_July2021_NLP_Pratishtha/blob/main/Pratishtha_Assignment1_Language_Modelling.ipynb\" target=\"_parent\"><img src=\"https://colab.research.google.com/assets/colab-badge.svg\" alt=\"Open In Colab\"/></a>"
      ]
    },
    {
      "cell_type": "code",
      "metadata": {
        "colab": {
          "base_uri": "https://localhost:8080/"
        },
        "id": "vxEkWpyc2EgV",
        "outputId": "8c50c74b-74b3-49a0-8b53-654436f2828a"
      },
      "source": [
        "import nltk\n",
        "nltk.download('punkt')"
      ],
      "execution_count": null,
      "outputs": [
        {
          "output_type": "stream",
          "text": [
            "[nltk_data] Downloading package punkt to /root/nltk_data...\n",
            "[nltk_data]   Package punkt is already up-to-date!\n"
          ],
          "name": "stdout"
        },
        {
          "output_type": "execute_result",
          "data": {
            "text/plain": [
              "True"
            ]
          },
          "metadata": {
            "tags": []
          },
          "execution_count": 1
        }
      ]
    },
    {
      "cell_type": "code",
      "metadata": {
        "id": "Lyf9g7B12N65"
      },
      "source": [
        "import nltk\n",
        "from nltk import word_tokenize\n",
        "from nltk.util import ngrams\n",
        "from collections import Counter"
      ],
      "execution_count": null,
      "outputs": []
    },
    {
      "cell_type": "code",
      "metadata": {
        "colab": {
          "base_uri": "https://localhost:8080/",
          "height": 203
        },
        "id": "WZfjcXe4Ob-n",
        "outputId": "b74dbf24-037d-45fa-9ab3-5267ec66eea7"
      },
      "source": [
        "import pandas as pd\n",
        "train_df = pd.read_csv('movie_review.csv')\n",
        "train_df.head()"
      ],
      "execution_count": null,
      "outputs": [
        {
          "output_type": "execute_result",
          "data": {
            "text/html": [
              "<div>\n",
              "<style scoped>\n",
              "    .dataframe tbody tr th:only-of-type {\n",
              "        vertical-align: middle;\n",
              "    }\n",
              "\n",
              "    .dataframe tbody tr th {\n",
              "        vertical-align: top;\n",
              "    }\n",
              "\n",
              "    .dataframe thead th {\n",
              "        text-align: right;\n",
              "    }\n",
              "</style>\n",
              "<table border=\"1\" class=\"dataframe\">\n",
              "  <thead>\n",
              "    <tr style=\"text-align: right;\">\n",
              "      <th></th>\n",
              "      <th>fold_id</th>\n",
              "      <th>cv_tag</th>\n",
              "      <th>html_id</th>\n",
              "      <th>sent_id</th>\n",
              "      <th>text</th>\n",
              "      <th>tag</th>\n",
              "    </tr>\n",
              "  </thead>\n",
              "  <tbody>\n",
              "    <tr>\n",
              "      <th>0</th>\n",
              "      <td>0</td>\n",
              "      <td>cv000</td>\n",
              "      <td>29590</td>\n",
              "      <td>0</td>\n",
              "      <td>films adapted from comic books have had plenty...</td>\n",
              "      <td>pos</td>\n",
              "    </tr>\n",
              "    <tr>\n",
              "      <th>1</th>\n",
              "      <td>0</td>\n",
              "      <td>cv000</td>\n",
              "      <td>29590</td>\n",
              "      <td>1</td>\n",
              "      <td>for starters , it was created by alan moore ( ...</td>\n",
              "      <td>pos</td>\n",
              "    </tr>\n",
              "    <tr>\n",
              "      <th>2</th>\n",
              "      <td>0</td>\n",
              "      <td>cv000</td>\n",
              "      <td>29590</td>\n",
              "      <td>2</td>\n",
              "      <td>to say moore and campbell thoroughly researche...</td>\n",
              "      <td>pos</td>\n",
              "    </tr>\n",
              "    <tr>\n",
              "      <th>3</th>\n",
              "      <td>0</td>\n",
              "      <td>cv000</td>\n",
              "      <td>29590</td>\n",
              "      <td>3</td>\n",
              "      <td>the book ( or \" graphic novel , \" if you will ...</td>\n",
              "      <td>pos</td>\n",
              "    </tr>\n",
              "    <tr>\n",
              "      <th>4</th>\n",
              "      <td>0</td>\n",
              "      <td>cv000</td>\n",
              "      <td>29590</td>\n",
              "      <td>4</td>\n",
              "      <td>in other words , don't dismiss this film becau...</td>\n",
              "      <td>pos</td>\n",
              "    </tr>\n",
              "  </tbody>\n",
              "</table>\n",
              "</div>"
            ],
            "text/plain": [
              "   fold_id cv_tag  ...                                               text  tag\n",
              "0        0  cv000  ...  films adapted from comic books have had plenty...  pos\n",
              "1        0  cv000  ...  for starters , it was created by alan moore ( ...  pos\n",
              "2        0  cv000  ...  to say moore and campbell thoroughly researche...  pos\n",
              "3        0  cv000  ...  the book ( or \" graphic novel , \" if you will ...  pos\n",
              "4        0  cv000  ...  in other words , don't dismiss this film becau...  pos\n",
              "\n",
              "[5 rows x 6 columns]"
            ]
          },
          "metadata": {
            "tags": []
          },
          "execution_count": 3
        }
      ]
    },
    {
      "cell_type": "code",
      "metadata": {
        "id": "hhqGgFS0Oc0m"
      },
      "source": [
        "import pandas as pd\n",
        "import numpy as np\n",
        "import math\n",
        "import matplotlib.pyplot as plt\n",
        "import re\n",
        "import glob\n",
        "import random\n",
        "import seaborn as sns\n",
        "import string"
      ],
      "execution_count": null,
      "outputs": []
    },
    {
      "cell_type": "code",
      "metadata": {
        "id": "vdAXfGU51LYY"
      },
      "source": [
        "train_df['sentence_clean'] = train_df['text'].str.replace('[{}]'.format(string.punctuation), '')\n",
        "train_df['sentence_clean'] = train_df['sentence_clean'].str.lower()\n",
        "train_df=train_df.head(1000)"
      ],
      "execution_count": null,
      "outputs": []
    },
    {
      "cell_type": "code",
      "metadata": {
        "id": "7t97z2A51-d1"
      },
      "source": [
        "from collections import defaultdict\n",
        "from nltk import bigrams, trigrams\n",
        "from collections import Counter\n",
        "\n",
        "model_2 = defaultdict(lambda: defaultdict(lambda: 0))\n",
        "\n",
        "\n",
        "for sentence in train_df['sentence_clean']:\n",
        "  #Split the sentence into trigrams in order to count the frequencies of the trigrams\n",
        "  for w1,w2,w3 in trigrams(sentence.split(), pad_right=True, pad_left=True):\n",
        "    model_2[w1,w2][(w3)] += 1\n"
      ],
      "execution_count": null,
      "outputs": []
    },
    {
      "cell_type": "code",
      "metadata": {
        "colab": {
          "base_uri": "https://localhost:8080/"
        },
        "id": "JlA-2gqP6A_R",
        "outputId": "63853924-e547-4449-ffb5-a96ae6e69841"
      },
      "source": [
        "model_2['apart','in']"
      ],
      "execution_count": null,
      "outputs": [
        {
          "output_type": "execute_result",
          "data": {
            "text/plain": [
              "defaultdict(<function __main__.<lambda>.<locals>.<lambda>>, {'the': 1.0})"
            ]
          },
          "metadata": {
            "tags": []
          },
          "execution_count": 12
        }
      ]
    },
    {
      "cell_type": "code",
      "metadata": {
        "colab": {
          "base_uri": "https://localhost:8080/"
        },
        "id": "ZdZSCWd-2c46",
        "outputId": "320a2f56-285d-4cf3-ef09-039af5426479"
      },
      "source": [
        "# since there weren't many trigrams for apart in, so I took random words that usually come together.\n",
        "# Also, I wasn't sure if we had to submit bigram too, but since only trigram is asked, so submitting that, bigram practiced otherwise.\n",
        "model_2[('in','the')]"
      ],
      "execution_count": null,
      "outputs": [
        {
          "output_type": "execute_result",
          "data": {
            "text/plain": [
              "defaultdict(<function __main__.<lambda>.<locals>.<lambda>>,\n",
              "            {'50s': 1,\n",
              "             'acerbic': 1,\n",
              "             'act': 1,\n",
              "             'authors': 1,\n",
              "             'background': 2,\n",
              "             'belgianowned': 1,\n",
              "             'blackandwhite': 1,\n",
              "             'bronx': 1,\n",
              "             'bustling': 1,\n",
              "             'cable': 1,\n",
              "             'captains': 1,\n",
              "             'case': 1,\n",
              "             'chain': 1,\n",
              "             'chase': 1,\n",
              "             'city': 1,\n",
              "             'cleavage': 1,\n",
              "             'climactic': 1,\n",
              "             'colorful': 1,\n",
              "             'comic': 1,\n",
              "             'corner': 1,\n",
              "             'criminal': 1,\n",
              "             'early': 1,\n",
              "             'end': 2,\n",
              "             'entire': 2,\n",
              "             'face': 1,\n",
              "             'fact': 1,\n",
              "             'film': 11,\n",
              "             'force': 1,\n",
              "             'game': 1,\n",
              "             'genre': 1,\n",
              "             'ghetto': 2,\n",
              "             'gymnasium': 1,\n",
              "             'hands': 1,\n",
              "             'heat': 1,\n",
              "             'last': 1,\n",
              "             'life': 2,\n",
              "             'manner': 1,\n",
              "             'mid': 1,\n",
              "             'middle': 1,\n",
              "             'mideighties': 1,\n",
              "             'minivan': 1,\n",
              "             'morning': 1,\n",
              "             'moroccan': 1,\n",
              "             'movie': 4,\n",
              "             'movies': 2,\n",
              "             'murder': 1,\n",
              "             'nfl': 1,\n",
              "             'north': 1,\n",
              "             'ocean': 1,\n",
              "             'plot': 1,\n",
              "             'political': 1,\n",
              "             'polls': 1,\n",
              "             'postsalary': 1,\n",
              "             'presenttime': 1,\n",
              "             'process': 1,\n",
              "             'race': 2,\n",
              "             'right': 1,\n",
              "             'rings': 1,\n",
              "             'rock': 1,\n",
              "             'role': 1,\n",
              "             'same': 1,\n",
              "             'secret': 1,\n",
              "             'sequel': 1,\n",
              "             'series': 3,\n",
              "             'short': 1,\n",
              "             'situation': 1,\n",
              "             'studentteacher': 1,\n",
              "             'summer': 1,\n",
              "             'supporting': 1,\n",
              "             'surreal': 1,\n",
              "             'title': 1,\n",
              "             'tradition': 1,\n",
              "             'u': 1,\n",
              "             'water': 1,\n",
              "             'ways': 1,\n",
              "             'year': 1})"
            ]
          },
          "metadata": {
            "tags": []
          },
          "execution_count": 7
        }
      ]
    },
    {
      "cell_type": "code",
      "metadata": {
        "id": "uo8Tf1H63iBb"
      },
      "source": [
        "for w1_w2 in model_2:\n",
        "    total_count = float(sum(model_2[w1_w2].values()))\n",
        "    for w3 in model_2[w1_w2]:\n",
        "        model_2[w1_w2][w3] /= total_count"
      ],
      "execution_count": null,
      "outputs": []
    },
    {
      "cell_type": "code",
      "metadata": {
        "colab": {
          "base_uri": "https://localhost:8080/"
        },
        "id": "R1qd-eS16NFR",
        "outputId": "1ffc8f44-fe4f-4a7d-aa43-f438b9a0e421"
      },
      "source": [
        "model_2['apart','in']"
      ],
      "execution_count": null,
      "outputs": [
        {
          "output_type": "execute_result",
          "data": {
            "text/plain": [
              "defaultdict(<function __main__.<lambda>.<locals>.<lambda>>, {'the': 1.0})"
            ]
          },
          "metadata": {
            "tags": []
          },
          "execution_count": 13
        }
      ]
    },
    {
      "cell_type": "code",
      "metadata": {
        "colab": {
          "base_uri": "https://localhost:8080/"
        },
        "id": "l2lrrhfq3lO6",
        "outputId": "c82eaee9-2811-4a3a-cb9d-689c3f527ec6"
      },
      "source": [
        "model_2[('in','the')]"
      ],
      "execution_count": null,
      "outputs": [
        {
          "output_type": "execute_result",
          "data": {
            "text/plain": [
              "defaultdict(<function __main__.<lambda>.<locals>.<lambda>>,\n",
              "            {'50s': 0.01020408163265306,\n",
              "             'acerbic': 0.01020408163265306,\n",
              "             'act': 0.01020408163265306,\n",
              "             'authors': 0.01020408163265306,\n",
              "             'background': 0.02040816326530612,\n",
              "             'belgianowned': 0.01020408163265306,\n",
              "             'blackandwhite': 0.01020408163265306,\n",
              "             'bronx': 0.01020408163265306,\n",
              "             'bustling': 0.01020408163265306,\n",
              "             'cable': 0.01020408163265306,\n",
              "             'captains': 0.01020408163265306,\n",
              "             'case': 0.01020408163265306,\n",
              "             'chain': 0.01020408163265306,\n",
              "             'chase': 0.01020408163265306,\n",
              "             'city': 0.01020408163265306,\n",
              "             'cleavage': 0.01020408163265306,\n",
              "             'climactic': 0.01020408163265306,\n",
              "             'colorful': 0.01020408163265306,\n",
              "             'comic': 0.01020408163265306,\n",
              "             'corner': 0.01020408163265306,\n",
              "             'criminal': 0.01020408163265306,\n",
              "             'early': 0.01020408163265306,\n",
              "             'end': 0.02040816326530612,\n",
              "             'entire': 0.02040816326530612,\n",
              "             'face': 0.01020408163265306,\n",
              "             'fact': 0.01020408163265306,\n",
              "             'film': 0.11224489795918367,\n",
              "             'force': 0.01020408163265306,\n",
              "             'game': 0.01020408163265306,\n",
              "             'genre': 0.01020408163265306,\n",
              "             'ghetto': 0.02040816326530612,\n",
              "             'gymnasium': 0.01020408163265306,\n",
              "             'hands': 0.01020408163265306,\n",
              "             'heat': 0.01020408163265306,\n",
              "             'last': 0.01020408163265306,\n",
              "             'life': 0.02040816326530612,\n",
              "             'manner': 0.01020408163265306,\n",
              "             'mid': 0.01020408163265306,\n",
              "             'middle': 0.01020408163265306,\n",
              "             'mideighties': 0.01020408163265306,\n",
              "             'minivan': 0.01020408163265306,\n",
              "             'morning': 0.01020408163265306,\n",
              "             'moroccan': 0.01020408163265306,\n",
              "             'movie': 0.04081632653061224,\n",
              "             'movies': 0.02040816326530612,\n",
              "             'murder': 0.01020408163265306,\n",
              "             'nfl': 0.01020408163265306,\n",
              "             'north': 0.01020408163265306,\n",
              "             'ocean': 0.01020408163265306,\n",
              "             'plot': 0.01020408163265306,\n",
              "             'political': 0.01020408163265306,\n",
              "             'polls': 0.01020408163265306,\n",
              "             'postsalary': 0.01020408163265306,\n",
              "             'presenttime': 0.01020408163265306,\n",
              "             'process': 0.01020408163265306,\n",
              "             'race': 0.02040816326530612,\n",
              "             'right': 0.01020408163265306,\n",
              "             'rings': 0.01020408163265306,\n",
              "             'rock': 0.01020408163265306,\n",
              "             'role': 0.01020408163265306,\n",
              "             'same': 0.01020408163265306,\n",
              "             'secret': 0.01020408163265306,\n",
              "             'sequel': 0.01020408163265306,\n",
              "             'series': 0.030612244897959183,\n",
              "             'short': 0.01020408163265306,\n",
              "             'situation': 0.01020408163265306,\n",
              "             'studentteacher': 0.01020408163265306,\n",
              "             'summer': 0.01020408163265306,\n",
              "             'supporting': 0.01020408163265306,\n",
              "             'surreal': 0.01020408163265306,\n",
              "             'title': 0.01020408163265306,\n",
              "             'tradition': 0.01020408163265306,\n",
              "             'u': 0.01020408163265306,\n",
              "             'water': 0.01020408163265306,\n",
              "             'ways': 0.01020408163265306,\n",
              "             'year': 0.01020408163265306})"
            ]
          },
          "metadata": {
            "tags": []
          },
          "execution_count": 9
        }
      ]
    }
  ]
}
