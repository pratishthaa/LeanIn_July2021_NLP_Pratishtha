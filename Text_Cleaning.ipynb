{
  "nbformat": 4,
  "nbformat_minor": 0,
  "metadata": {
    "colab": {
      "name": "Untitled7.ipynb",
      "provenance": [],
      "authorship_tag": "ABX9TyNg8L0IUIP//f09EBkDgudu",
      "include_colab_link": true
    },
    "kernelspec": {
      "name": "python3",
      "display_name": "Python 3"
    },
    "language_info": {
      "name": "python"
    }
  },
  "cells": [
    {
      "cell_type": "markdown",
      "metadata": {
        "id": "view-in-github",
        "colab_type": "text"
      },
      "source": [
        "<a href=\"https://colab.research.google.com/github/pratishthaa/LeanIn_July2021_NLP_Pratishtha/blob/main/Text_Cleaning.ipynb\" target=\"_parent\"><img src=\"https://colab.research.google.com/assets/colab-badge.svg\" alt=\"Open In Colab\"/></a>"
      ]
    },
    {
      "cell_type": "code",
      "metadata": {
        "colab": {
          "base_uri": "https://localhost:8080/"
        },
        "id": "y7-kTPFcsR8Z",
        "outputId": "41e045ca-80c6-40d4-ed20-f518de8243cd"
      },
      "source": [
        "import re\n",
        "import matplotlib\n",
        "import numpy as np\n",
        "import matplotlib.pyplot as plt\n",
        "import pandas as pd\n",
        "import string\n",
        "\n",
        "from nltk.corpus import stopwords\n",
        "import nltk\n",
        "import numba\n",
        "from numba import jit\n",
        "\n",
        "nltk.download('stopwords')\n",
        "nltk.download('punkt')\n",
        "nltk.download('averaged_perceptron_tagger')"
      ],
      "execution_count": 254,
      "outputs": [
        {
          "output_type": "stream",
          "text": [
            "[nltk_data] Downloading package stopwords to /root/nltk_data...\n",
            "[nltk_data]   Package stopwords is already up-to-date!\n",
            "[nltk_data] Downloading package punkt to /root/nltk_data...\n",
            "[nltk_data]   Package punkt is already up-to-date!\n",
            "[nltk_data] Downloading package averaged_perceptron_tagger to\n",
            "[nltk_data]     /root/nltk_data...\n",
            "[nltk_data]   Package averaged_perceptron_tagger is already up-to-\n",
            "[nltk_data]       date!\n"
          ],
          "name": "stdout"
        },
        {
          "output_type": "execute_result",
          "data": {
            "text/plain": [
              "True"
            ]
          },
          "metadata": {
            "tags": []
          },
          "execution_count": 254
        }
      ]
    },
    {
      "cell_type": "code",
      "metadata": {
        "colab": {
          "base_uri": "https://localhost:8080/"
        },
        "id": "z4_bcjuIsS3A",
        "outputId": "c712547d-960b-4e6e-9e6c-efc64df04239"
      },
      "source": [
        "!unzip english_dataset.zip\n",
        "!rm -rf english_dataset.zip"
      ],
      "execution_count": 255,
      "outputs": [
        {
          "output_type": "stream",
          "text": [
            "unzip:  cannot find or open english_dataset.zip, english_dataset.zip.zip or english_dataset.zip.ZIP.\n"
          ],
          "name": "stdout"
        }
      ]
    },
    {
      "cell_type": "code",
      "metadata": {
        "colab": {
          "base_uri": "https://localhost:8080/",
          "height": 1000
        },
        "id": "qE3S_wlzsnn9",
        "outputId": "f505397f-48ef-468d-d975-459cbae764af"
      },
      "source": [
        "df=pd.read_csv(\"/content/english_dataset/english_dataset.tsv\", delimiter=\"\\t\")\n",
        "df.head(40)"
      ],
      "execution_count": 256,
      "outputs": [
        {
          "output_type": "execute_result",
          "data": {
            "text/html": [
              "<div>\n",
              "<style scoped>\n",
              "    .dataframe tbody tr th:only-of-type {\n",
              "        vertical-align: middle;\n",
              "    }\n",
              "\n",
              "    .dataframe tbody tr th {\n",
              "        vertical-align: top;\n",
              "    }\n",
              "\n",
              "    .dataframe thead th {\n",
              "        text-align: right;\n",
              "    }\n",
              "</style>\n",
              "<table border=\"1\" class=\"dataframe\">\n",
              "  <thead>\n",
              "    <tr style=\"text-align: right;\">\n",
              "      <th></th>\n",
              "      <th>text_id</th>\n",
              "      <th>text</th>\n",
              "      <th>task_1</th>\n",
              "      <th>task_2</th>\n",
              "      <th>task_3</th>\n",
              "    </tr>\n",
              "  </thead>\n",
              "  <tbody>\n",
              "    <tr>\n",
              "      <th>0</th>\n",
              "      <td>hasoc_en_1</td>\n",
              "      <td>#DhoniKeepsTheGlove | WATCH: Sports Minister K...</td>\n",
              "      <td>NOT</td>\n",
              "      <td>NONE</td>\n",
              "      <td>NONE</td>\n",
              "    </tr>\n",
              "    <tr>\n",
              "      <th>1</th>\n",
              "      <td>hasoc_en_2</td>\n",
              "      <td>@politico No. We should remember very clearly ...</td>\n",
              "      <td>HOF</td>\n",
              "      <td>HATE</td>\n",
              "      <td>TIN</td>\n",
              "    </tr>\n",
              "    <tr>\n",
              "      <th>2</th>\n",
              "      <td>hasoc_en_3</td>\n",
              "      <td>@cricketworldcup Guess who would be the winner...</td>\n",
              "      <td>NOT</td>\n",
              "      <td>NONE</td>\n",
              "      <td>NONE</td>\n",
              "    </tr>\n",
              "    <tr>\n",
              "      <th>3</th>\n",
              "      <td>hasoc_en_4</td>\n",
              "      <td>Corbyn is too politically intellectual for #Bo...</td>\n",
              "      <td>NOT</td>\n",
              "      <td>NONE</td>\n",
              "      <td>NONE</td>\n",
              "    </tr>\n",
              "    <tr>\n",
              "      <th>4</th>\n",
              "      <td>hasoc_en_5</td>\n",
              "      <td>All the best to #TeamIndia for another swimmin...</td>\n",
              "      <td>NOT</td>\n",
              "      <td>NONE</td>\n",
              "      <td>NONE</td>\n",
              "    </tr>\n",
              "    <tr>\n",
              "      <th>5</th>\n",
              "      <td>hasoc_en_6</td>\n",
              "      <td>@kellymiller513 @TheRealOJ32 I hope you rememb...</td>\n",
              "      <td>NOT</td>\n",
              "      <td>NONE</td>\n",
              "      <td>NONE</td>\n",
              "    </tr>\n",
              "    <tr>\n",
              "      <th>6</th>\n",
              "      <td>hasoc_en_7</td>\n",
              "      <td>@ICC Latest design of #WC2019 trophy. #CWC2019...</td>\n",
              "      <td>NOT</td>\n",
              "      <td>NONE</td>\n",
              "      <td>NONE</td>\n",
              "    </tr>\n",
              "    <tr>\n",
              "      <th>7</th>\n",
              "      <td>hasoc_en_8</td>\n",
              "      <td>#ADOS #trendingnow #blacklivesmatter #justice ...</td>\n",
              "      <td>HOF</td>\n",
              "      <td>PRFN</td>\n",
              "      <td>TIN</td>\n",
              "    </tr>\n",
              "    <tr>\n",
              "      <th>8</th>\n",
              "      <td>hasoc_en_9</td>\n",
              "      <td>Thanks for your support! Wow 600k. Graffiti ha...</td>\n",
              "      <td>NOT</td>\n",
              "      <td>NONE</td>\n",
              "      <td>NONE</td>\n",
              "    </tr>\n",
              "    <tr>\n",
              "      <th>9</th>\n",
              "      <td>hasoc_en_10</td>\n",
              "      <td>By wearing the #BalidaanBadge over his gloves ...</td>\n",
              "      <td>NOT</td>\n",
              "      <td>NONE</td>\n",
              "      <td>NONE</td>\n",
              "    </tr>\n",
              "    <tr>\n",
              "      <th>10</th>\n",
              "      <td>hasoc_en_11</td>\n",
              "      <td>Mahendra Singh Dhoni's love for the Nation, Ar...</td>\n",
              "      <td>NOT</td>\n",
              "      <td>NONE</td>\n",
              "      <td>NONE</td>\n",
              "    </tr>\n",
              "    <tr>\n",
              "      <th>11</th>\n",
              "      <td>hasoc_en_12</td>\n",
              "      <td>I don’t know how much more I can take! 45 is a...</td>\n",
              "      <td>HOF</td>\n",
              "      <td>HATE</td>\n",
              "      <td>TIN</td>\n",
              "    </tr>\n",
              "    <tr>\n",
              "      <th>12</th>\n",
              "      <td>hasoc_en_13</td>\n",
              "      <td>#ShameOnICC@ICC WINNER TEAM-RAIN  ICC RUN UP T...</td>\n",
              "      <td>NOT</td>\n",
              "      <td>NONE</td>\n",
              "      <td>NONE</td>\n",
              "    </tr>\n",
              "    <tr>\n",
              "      <th>13</th>\n",
              "      <td>hasoc_en_14</td>\n",
              "      <td>@narendramodi  @pmoindia_namo  @narendramodi  ...</td>\n",
              "      <td>NOT</td>\n",
              "      <td>NONE</td>\n",
              "      <td>NONE</td>\n",
              "    </tr>\n",
              "    <tr>\n",
              "      <th>14</th>\n",
              "      <td>hasoc_en_15</td>\n",
              "      <td>ICC denies request from BCCI to allow MSD wear...</td>\n",
              "      <td>NOT</td>\n",
              "      <td>NONE</td>\n",
              "      <td>NONE</td>\n",
              "    </tr>\n",
              "    <tr>\n",
              "      <th>15</th>\n",
              "      <td>hasoc_en_16</td>\n",
              "      <td>Good work @ICC keep going just destroy the who...</td>\n",
              "      <td>HOF</td>\n",
              "      <td>PRFN</td>\n",
              "      <td>TIN</td>\n",
              "    </tr>\n",
              "    <tr>\n",
              "      <th>16</th>\n",
              "      <td>hasoc_en_17</td>\n",
              "      <td>Wow, you're full of it @MattHancock   #BorisJo...</td>\n",
              "      <td>NOT</td>\n",
              "      <td>NONE</td>\n",
              "      <td>NONE</td>\n",
              "    </tr>\n",
              "    <tr>\n",
              "      <th>17</th>\n",
              "      <td>hasoc_en_18</td>\n",
              "      <td>All Indian spectators shd hv #BalidanBadge in ...</td>\n",
              "      <td>NOT</td>\n",
              "      <td>NONE</td>\n",
              "      <td>NONE</td>\n",
              "    </tr>\n",
              "    <tr>\n",
              "      <th>18</th>\n",
              "      <td>hasoc_en_19</td>\n",
              "      <td>@ICC  @BCCI  What about Virat Kholi tattoos 😂😂...</td>\n",
              "      <td>NOT</td>\n",
              "      <td>NONE</td>\n",
              "      <td>NONE</td>\n",
              "    </tr>\n",
              "    <tr>\n",
              "      <th>19</th>\n",
              "      <td>hasoc_en_20</td>\n",
              "      <td>Which is more important?  #IndiaWithDhoni   #D...</td>\n",
              "      <td>NOT</td>\n",
              "      <td>NONE</td>\n",
              "      <td>NONE</td>\n",
              "    </tr>\n",
              "    <tr>\n",
              "      <th>20</th>\n",
              "      <td>hasoc_en_21</td>\n",
              "      <td>@KBMteam @iowaspeedway @HBurtonRacing @rileyhe...</td>\n",
              "      <td>NOT</td>\n",
              "      <td>NONE</td>\n",
              "      <td>NONE</td>\n",
              "    </tr>\n",
              "    <tr>\n",
              "      <th>21</th>\n",
              "      <td>hasoc_en_22</td>\n",
              "      <td>Harbor N Bay Mens Boxer Short Pack of 2 @ Rs.2...</td>\n",
              "      <td>NOT</td>\n",
              "      <td>NONE</td>\n",
              "      <td>NONE</td>\n",
              "    </tr>\n",
              "    <tr>\n",
              "      <th>22</th>\n",
              "      <td>hasoc_en_23</td>\n",
              "      <td>ICC turns down #BCCI's request to allow @msdho...</td>\n",
              "      <td>NOT</td>\n",
              "      <td>NONE</td>\n",
              "      <td>NONE</td>\n",
              "    </tr>\n",
              "    <tr>\n",
              "      <th>23</th>\n",
              "      <td>hasoc_en_24</td>\n",
              "      <td>#ShameOnICC  1. ICC on Dhoni's gloves         ...</td>\n",
              "      <td>HOF</td>\n",
              "      <td>HATE</td>\n",
              "      <td>TIN</td>\n",
              "    </tr>\n",
              "    <tr>\n",
              "      <th>24</th>\n",
              "      <td>hasoc_en_25</td>\n",
              "      <td>Senior #Doctors of #RGKar greeted with applaus...</td>\n",
              "      <td>NOT</td>\n",
              "      <td>NONE</td>\n",
              "      <td>NONE</td>\n",
              "    </tr>\n",
              "    <tr>\n",
              "      <th>25</th>\n",
              "      <td>hasoc_en_26</td>\n",
              "      <td>Empty podiums make too much noise     #ToryLea...</td>\n",
              "      <td>NOT</td>\n",
              "      <td>NONE</td>\n",
              "      <td>NONE</td>\n",
              "    </tr>\n",
              "    <tr>\n",
              "      <th>26</th>\n",
              "      <td>hasoc_en_27</td>\n",
              "      <td>#ShameOnICC #iccworldcup2019 world cup reality...</td>\n",
              "      <td>NOT</td>\n",
              "      <td>NONE</td>\n",
              "      <td>NONE</td>\n",
              "    </tr>\n",
              "    <tr>\n",
              "      <th>27</th>\n",
              "      <td>hasoc_en_28</td>\n",
              "      <td>Disgusting! And they don’t change their cultur...</td>\n",
              "      <td>HOF</td>\n",
              "      <td>HATE</td>\n",
              "      <td>TIN</td>\n",
              "    </tr>\n",
              "    <tr>\n",
              "      <th>28</th>\n",
              "      <td>hasoc_en_29</td>\n",
              "      <td>GOQii VITAL - Colour Display Blood Pressure Mo...</td>\n",
              "      <td>NOT</td>\n",
              "      <td>NONE</td>\n",
              "      <td>NONE</td>\n",
              "    </tr>\n",
              "    <tr>\n",
              "      <th>29</th>\n",
              "      <td>hasoc_en_30</td>\n",
              "      <td>500 doctors have already resigned in #Bengal. ...</td>\n",
              "      <td>NOT</td>\n",
              "      <td>NONE</td>\n",
              "      <td>NONE</td>\n",
              "    </tr>\n",
              "    <tr>\n",
              "      <th>30</th>\n",
              "      <td>hasoc_en_31</td>\n",
              "      <td>Hi everyone, I'm in Kolkata and just thought I...</td>\n",
              "      <td>NOT</td>\n",
              "      <td>NONE</td>\n",
              "      <td>NONE</td>\n",
              "    </tr>\n",
              "    <tr>\n",
              "      <th>31</th>\n",
              "      <td>hasoc_en_32</td>\n",
              "      <td>@BCCI @ICC @englandcricket Worst ever world cu...</td>\n",
              "      <td>NOT</td>\n",
              "      <td>NONE</td>\n",
              "      <td>NONE</td>\n",
              "    </tr>\n",
              "    <tr>\n",
              "      <th>32</th>\n",
              "      <td>hasoc_en_33</td>\n",
              "      <td>@realDonaldTrump fuck you and go fuck yourself...</td>\n",
              "      <td>HOF</td>\n",
              "      <td>PRFN</td>\n",
              "      <td>TIN</td>\n",
              "    </tr>\n",
              "    <tr>\n",
              "      <th>33</th>\n",
              "      <td>hasoc_en_34</td>\n",
              "      <td>Donald Trump lies.  #TrumpIsATraitor   Happy #...</td>\n",
              "      <td>NOT</td>\n",
              "      <td>NONE</td>\n",
              "      <td>NONE</td>\n",
              "    </tr>\n",
              "    <tr>\n",
              "      <th>34</th>\n",
              "      <td>hasoc_en_35</td>\n",
              "      <td>@TheRealOJ32 Of all the retired NFL players, w...</td>\n",
              "      <td>HOF</td>\n",
              "      <td>HATE</td>\n",
              "      <td>TIN</td>\n",
              "    </tr>\n",
              "    <tr>\n",
              "      <th>35</th>\n",
              "      <td>hasoc_en_36</td>\n",
              "      <td>The Telegraph´s use of the word ´crown´ with r...</td>\n",
              "      <td>NOT</td>\n",
              "      <td>NONE</td>\n",
              "      <td>NONE</td>\n",
              "    </tr>\n",
              "    <tr>\n",
              "      <th>36</th>\n",
              "      <td>hasoc_en_37</td>\n",
              "      <td>#DoctorsFightBack | No doctor wishes to stop e...</td>\n",
              "      <td>NOT</td>\n",
              "      <td>NONE</td>\n",
              "      <td>NONE</td>\n",
              "    </tr>\n",
              "    <tr>\n",
              "      <th>37</th>\n",
              "      <td>hasoc_en_38</td>\n",
              "      <td>@timesofindia No worries @timesofindia because...</td>\n",
              "      <td>NOT</td>\n",
              "      <td>NONE</td>\n",
              "      <td>NONE</td>\n",
              "    </tr>\n",
              "    <tr>\n",
              "      <th>38</th>\n",
              "      <td>hasoc_en_39</td>\n",
              "      <td>Will @ImRo45 score a 100 again today?  Predict...</td>\n",
              "      <td>NOT</td>\n",
              "      <td>NONE</td>\n",
              "      <td>NONE</td>\n",
              "    </tr>\n",
              "    <tr>\n",
              "      <th>39</th>\n",
              "      <td>hasoc_en_40</td>\n",
              "      <td>DON'T support a country Who has Concentration ...</td>\n",
              "      <td>NOT</td>\n",
              "      <td>NONE</td>\n",
              "      <td>NONE</td>\n",
              "    </tr>\n",
              "  </tbody>\n",
              "</table>\n",
              "</div>"
            ],
            "text/plain": [
              "        text_id  ... task_3\n",
              "0    hasoc_en_1  ...   NONE\n",
              "1    hasoc_en_2  ...    TIN\n",
              "2    hasoc_en_3  ...   NONE\n",
              "3    hasoc_en_4  ...   NONE\n",
              "4    hasoc_en_5  ...   NONE\n",
              "5    hasoc_en_6  ...   NONE\n",
              "6    hasoc_en_7  ...   NONE\n",
              "7    hasoc_en_8  ...    TIN\n",
              "8    hasoc_en_9  ...   NONE\n",
              "9   hasoc_en_10  ...   NONE\n",
              "10  hasoc_en_11  ...   NONE\n",
              "11  hasoc_en_12  ...    TIN\n",
              "12  hasoc_en_13  ...   NONE\n",
              "13  hasoc_en_14  ...   NONE\n",
              "14  hasoc_en_15  ...   NONE\n",
              "15  hasoc_en_16  ...    TIN\n",
              "16  hasoc_en_17  ...   NONE\n",
              "17  hasoc_en_18  ...   NONE\n",
              "18  hasoc_en_19  ...   NONE\n",
              "19  hasoc_en_20  ...   NONE\n",
              "20  hasoc_en_21  ...   NONE\n",
              "21  hasoc_en_22  ...   NONE\n",
              "22  hasoc_en_23  ...   NONE\n",
              "23  hasoc_en_24  ...    TIN\n",
              "24  hasoc_en_25  ...   NONE\n",
              "25  hasoc_en_26  ...   NONE\n",
              "26  hasoc_en_27  ...   NONE\n",
              "27  hasoc_en_28  ...    TIN\n",
              "28  hasoc_en_29  ...   NONE\n",
              "29  hasoc_en_30  ...   NONE\n",
              "30  hasoc_en_31  ...   NONE\n",
              "31  hasoc_en_32  ...   NONE\n",
              "32  hasoc_en_33  ...    TIN\n",
              "33  hasoc_en_34  ...   NONE\n",
              "34  hasoc_en_35  ...    TIN\n",
              "35  hasoc_en_36  ...   NONE\n",
              "36  hasoc_en_37  ...   NONE\n",
              "37  hasoc_en_38  ...   NONE\n",
              "38  hasoc_en_39  ...   NONE\n",
              "39  hasoc_en_40  ...   NONE\n",
              "\n",
              "[40 rows x 5 columns]"
            ]
          },
          "metadata": {
            "tags": []
          },
          "execution_count": 256
        }
      ]
    },
    {
      "cell_type": "markdown",
      "metadata": {
        "id": "zO8rjafiVwXj"
      },
      "source": [
        "# **Convert text Column to Uppercase**\n",
        "\n",
        "\n",
        "\n"
      ]
    },
    {
      "cell_type": "code",
      "metadata": {
        "colab": {
          "base_uri": "https://localhost:8080/"
        },
        "id": "jaZhLlJu2tI4",
        "outputId": "4ebd90c6-39f1-4d31-941f-a395a9dede96"
      },
      "source": [
        "df['text']=df['text'].str.upper()\n",
        "df['text'].head(10)"
      ],
      "execution_count": 257,
      "outputs": [
        {
          "output_type": "execute_result",
          "data": {
            "text/plain": [
              "0    #DHONIKEEPSTHEGLOVE | WATCH: SPORTS MINISTER K...\n",
              "1    @POLITICO NO. WE SHOULD REMEMBER VERY CLEARLY ...\n",
              "2    @CRICKETWORLDCUP GUESS WHO WOULD BE THE WINNER...\n",
              "3    CORBYN IS TOO POLITICALLY INTELLECTUAL FOR #BO...\n",
              "4    ALL THE BEST TO #TEAMINDIA FOR ANOTHER SWIMMIN...\n",
              "5    @KELLYMILLER513 @THEREALOJ32 I HOPE YOU REMEMB...\n",
              "6    @ICC LATEST DESIGN OF #WC2019 TROPHY. #CWC2019...\n",
              "7    #ADOS #TRENDINGNOW #BLACKLIVESMATTER #JUSTICE ...\n",
              "8    THANKS FOR YOUR SUPPORT! WOW 600K. GRAFFITI HA...\n",
              "9    BY WEARING THE #BALIDAANBADGE OVER HIS GLOVES ...\n",
              "Name: text, dtype: object"
            ]
          },
          "metadata": {
            "tags": []
          },
          "execution_count": 257
        }
      ]
    },
    {
      "cell_type": "markdown",
      "metadata": {
        "id": "8H5N6VNkWEuL"
      },
      "source": [
        "# **Convert text Column to Lowercase**\n"
      ]
    },
    {
      "cell_type": "code",
      "metadata": {
        "colab": {
          "base_uri": "https://localhost:8080/"
        },
        "id": "R49yIsdzyY-6",
        "outputId": "aa6893cc-a7e9-4c28-feda-b0eaf8fa38ca"
      },
      "source": [
        "df['text']=df['text'].str.lower()\n",
        "df['text'].head(10)"
      ],
      "execution_count": 258,
      "outputs": [
        {
          "output_type": "execute_result",
          "data": {
            "text/plain": [
              "0    #dhonikeepstheglove | watch: sports minister k...\n",
              "1    @politico no. we should remember very clearly ...\n",
              "2    @cricketworldcup guess who would be the winner...\n",
              "3    corbyn is too politically intellectual for #bo...\n",
              "4    all the best to #teamindia for another swimmin...\n",
              "5    @kellymiller513 @therealoj32 i hope you rememb...\n",
              "6    @icc latest design of #wc2019 trophy. #cwc2019...\n",
              "7    #ados #trendingnow #blacklivesmatter #justice ...\n",
              "8    thanks for your support! wow 600k. graffiti ha...\n",
              "9    by wearing the #balidaanbadge over his gloves ...\n",
              "Name: text, dtype: object"
            ]
          },
          "metadata": {
            "tags": []
          },
          "execution_count": 258
        }
      ]
    },
    {
      "cell_type": "markdown",
      "metadata": {
        "id": "Z0Th4YlqWJbO"
      },
      "source": [
        "# **Remove Numbers from text Column**\n"
      ]
    },
    {
      "cell_type": "code",
      "metadata": {
        "colab": {
          "base_uri": "https://localhost:8080/"
        },
        "id": "vKCDkaAr3N3H",
        "outputId": "bdb5f14b-7b69-4b0d-c024-9eca0d21d92a"
      },
      "source": [
        "df['text'] = df['text'].str.replace('\\d+', '')\n",
        "df['text'].head(30)"
      ],
      "execution_count": 259,
      "outputs": [
        {
          "output_type": "execute_result",
          "data": {
            "text/plain": [
              "0     #dhonikeepstheglove | watch: sports minister k...\n",
              "1     @politico no. we should remember very clearly ...\n",
              "2     @cricketworldcup guess who would be the winner...\n",
              "3     corbyn is too politically intellectual for #bo...\n",
              "4     all the best to #teamindia for another swimmin...\n",
              "5     @kellymiller @therealoj i hope you remembered ...\n",
              "6     @icc latest design of #wc trophy. #cwc #cwc #s...\n",
              "7     #ados #trendingnow #blacklivesmatter #justice ...\n",
              "8     thanks for your support! wow k. graffiti has a...\n",
              "9     by wearing the #balidaanbadge over his gloves ...\n",
              "10    mahendra singh dhoni's love for the nation, ar...\n",
              "11    i don’t know how much more i can take!  is a c...\n",
              "12    #shameonicc@icc winner team-rain  icc run up t...\n",
              "13    @narendramodi  @pmoindia_namo  @narendramodi  ...\n",
              "14    icc denies request from bcci to allow msd wear...\n",
              "15    good work @icc keep going just destroy the who...\n",
              "16    wow, you're full of it @matthancock   #borisjo...\n",
              "17    all indian spectators shd hv #balidanbadge in ...\n",
              "18    @icc  @bcci  what about virat kholi tattoos 😂😂...\n",
              "19    which is more important?  #indiawithdhoni   #d...\n",
              "20    @kbmteam @iowaspeedway @hburtonracing @rileyhe...\n",
              "21    harbor n bay mens boxer short pack of  @ rs.  ...\n",
              "22    icc turns down #bcci's request to allow @msdho...\n",
              "23    #shameonicc  . icc on dhoni's gloves          ...\n",
              "24    senior #doctors of #rgkar greeted with applaus...\n",
              "25    empty podiums make too much noise     #torylea...\n",
              "26    #shameonicc #iccworldcup world cup reality htt...\n",
              "27    disgusting! and they don’t change their cultur...\n",
              "28    goqii vital - colour display blood pressure mo...\n",
              "29     doctors have already resigned in #bengal.    ...\n",
              "Name: text, dtype: object"
            ]
          },
          "metadata": {
            "tags": []
          },
          "execution_count": 259
        }
      ]
    },
    {
      "cell_type": "markdown",
      "metadata": {
        "id": "bWYyak8MWRIP"
      },
      "source": [
        "# **Remove mentions from text Column**\n"
      ]
    },
    {
      "cell_type": "code",
      "metadata": {
        "colab": {
          "base_uri": "https://localhost:8080/"
        },
        "id": "961FD6_S67R4",
        "outputId": "51e26754-8003-408b-a52d-e20d66678972"
      },
      "source": [
        "df['text'] = df['text'].str.replace('@\\S+', '')\n",
        "df['text'].head(30)"
      ],
      "execution_count": 260,
      "outputs": [
        {
          "output_type": "execute_result",
          "data": {
            "text/plain": [
              "0     #dhonikeepstheglove | watch: sports minister k...\n",
              "1      no. we should remember very clearly that #ind...\n",
              "2      guess who would be the winner of this #cwc?  ...\n",
              "3     corbyn is too politically intellectual for #bo...\n",
              "4     all the best to #teamindia for another swimmin...\n",
              "5       i hope you remembered to wipe the blood off ...\n",
              "6      latest design of #wc trophy. #cwc #cwc #shame...\n",
              "7     #ados #trendingnow #blacklivesmatter #justice ...\n",
              "8     thanks for your support! wow k. graffiti has a...\n",
              "9     by wearing the #balidaanbadge over his gloves ...\n",
              "10    mahendra singh dhoni's love for the nation, ar...\n",
              "11    i don’t know how much more i can take!  is a c...\n",
              "12    #shameonicc winner team-rain  icc run up team-...\n",
              "13                grevious assault on jr doctors in ...\n",
              "14    icc denies request from bcci to allow msd wear...\n",
              "15    good work  keep going just destroy the whole f...\n",
              "16    wow, you're full of it    #borisjohnsonshouldn...\n",
              "17    all indian spectators shd hv #balidanbadge in ...\n",
              "18        what about virat kholi tattoos 😂😂    #dhon...\n",
              "19    which is more important?  #indiawithdhoni   #d...\n",
              "20                           is gonna crash. #douchebag\n",
              "21    harbor n bay mens boxer short pack of  @ rs.  ...\n",
              "22    icc turns down #bcci's request to allow  to co...\n",
              "23    #shameonicc  . icc on dhoni's gloves          ...\n",
              "24    senior #doctors of #rgkar greeted with applaus...\n",
              "25    empty podiums make too much noise     #torylea...\n",
              "26    #shameonicc #iccworldcup world cup reality htt...\n",
              "27    disgusting! and they don’t change their cultur...\n",
              "28    goqii vital - colour display blood pressure mo...\n",
              "29     doctors have already resigned in #bengal.    ...\n",
              "Name: text, dtype: object"
            ]
          },
          "metadata": {
            "tags": []
          },
          "execution_count": 260
        }
      ]
    },
    {
      "cell_type": "markdown",
      "metadata": {
        "id": "2_27cmphWZDp"
      },
      "source": [
        "# **Remove URLs from text Column**\n"
      ]
    },
    {
      "cell_type": "code",
      "metadata": {
        "colab": {
          "base_uri": "https://localhost:8080/"
        },
        "id": "ZBh4H4u97p0w",
        "outputId": "beb1edd7-902e-4cf5-ad31-9a4470c55895"
      },
      "source": [
        "df['text'] = df['text'].str.replace('https*\\S+', '')\n",
        "df['text'].head(40)"
      ],
      "execution_count": 261,
      "outputs": [
        {
          "output_type": "execute_result",
          "data": {
            "text/plain": [
              "0     #dhonikeepstheglove | watch: sports minister k...\n",
              "1      no. we should remember very clearly that #ind...\n",
              "2      guess who would be the winner of this #cwc?  ...\n",
              "3     corbyn is too politically intellectual for #bo...\n",
              "4     all the best to #teamindia for another swimmin...\n",
              "5       i hope you remembered to wipe the blood off ...\n",
              "6      latest design of #wc trophy. #cwc #cwc #shame...\n",
              "7     #ados #trendingnow #blacklivesmatter #justice ...\n",
              "8     thanks for your support! wow k. graffiti has a...\n",
              "9     by wearing the #balidaanbadge over his gloves ...\n",
              "10    mahendra singh dhoni's love for the nation, ar...\n",
              "11    i don’t know how much more i can take!  is a c...\n",
              "12    #shameonicc winner team-rain  icc run up team-...\n",
              "13                grevious assault on jr doctors in ...\n",
              "14    icc denies request from bcci to allow msd wear...\n",
              "15    good work  keep going just destroy the whole f...\n",
              "16    wow, you're full of it    #borisjohnsonshouldn...\n",
              "17    all indian spectators shd hv #balidanbadge in ...\n",
              "18        what about virat kholi tattoos 😂😂    #dhon...\n",
              "19    which is more important?  #indiawithdhoni   #d...\n",
              "20                           is gonna crash. #douchebag\n",
              "21    harbor n bay mens boxer short pack of  @ rs.  ...\n",
              "22    icc turns down #bcci's request to allow  to co...\n",
              "23    #shameonicc  . icc on dhoni's gloves          ...\n",
              "24    senior #doctors of #rgkar greeted with applaus...\n",
              "25    empty podiums make too much noise     #torylea...\n",
              "26          #shameonicc #iccworldcup world cup reality \n",
              "27    disgusting! and they don’t change their cultur...\n",
              "28    goqii vital - colour display blood pressure mo...\n",
              "29     doctors have already resigned in #bengal.    ...\n",
              "30    hi everyone, i'm in kolkata and just thought i...\n",
              "31       worst ever world cup arrangement in cricket...\n",
              "32     fuck you and go fuck yourself you piece of sh...\n",
              "33    donald trump lies.  #trumpisatraitor   happy #...\n",
              "34     of all the retired nfl players, why is it tha...\n",
              "35    the telegraph´s use of the word ´crown´ with r...\n",
              "36    #doctorsfightback | no doctor wishes to stop e...\n",
              "37     no worries  because there will be on only one...\n",
              "38    will  score a  again today?  predict @  and wi...\n",
              "39    don't support a country who has concentration ...\n",
              "Name: text, dtype: object"
            ]
          },
          "metadata": {
            "tags": []
          },
          "execution_count": 261
        }
      ]
    },
    {
      "cell_type": "markdown",
      "metadata": {
        "id": "7XH122MLWen5"
      },
      "source": [
        "# **Remove Hashtags from text Column**\n"
      ]
    },
    {
      "cell_type": "code",
      "metadata": {
        "colab": {
          "base_uri": "https://localhost:8080/"
        },
        "id": "k8GroOGP70T8",
        "outputId": "a2998109-8353-439d-e08a-1f9ab6ee0244"
      },
      "source": [
        "df['text'] = df['text'].str.replace('#\\S+', '')\n",
        "df['text'].head(30)"
      ],
      "execution_count": 262,
      "outputs": [
        {
          "output_type": "execute_result",
          "data": {
            "text/plain": [
              "0      | watch: sports minister kiren rijiju issues ...\n",
              "1      no. we should remember very clearly that  jus...\n",
              "2      guess who would be the winner of this      te...\n",
              "3     corbyn is too politically intellectual for    ...\n",
              "4     all the best to  for another swimming competit...\n",
              "5       i hope you remembered to wipe the blood off ...\n",
              "6                         latest design of  trophy.    \n",
              "7           ‘central park five’ prosecutor elizabeth...\n",
              "8     thanks for your support! wow k. graffiti has a...\n",
              "9     by wearing the  over his gloves  has shown his...\n",
              "10    mahendra singh dhoni's love for the nation, ar...\n",
              "11    i don’t know how much more i can take!  is a c...\n",
              "12     winner team-rain  icc run up team-rain  icc m...\n",
              "13                grevious assault on jr doctors in ...\n",
              "14    icc denies request from bcci to allow msd wear...\n",
              "15    good work  keep going just destroy the whole f...\n",
              "16                      wow, you're full of it         \n",
              "17         all indian spectators shd hv  in ground,    \n",
              "18               what about virat kholi tattoos 😂😂     \n",
              "19                       which is more important?      \n",
              "20                                     is gonna crash. \n",
              "21    harbor n bay mens boxer short pack of  @ rs.  ...\n",
              "22    icc turns down  request to allow  to continue ...\n",
              "23      . icc on dhoni's gloves                    v...\n",
              "24    senior  of  greeted with applause &amp; ovatio...\n",
              "25        empty podiums make too much noise            \n",
              "26                                   world cup reality \n",
              "27    disgusting! and they don’t change their cultur...\n",
              "28    goqii vital - colour display blood pressure mo...\n",
              "29     doctors have already resigned in     nrs   ss...\n",
              "Name: text, dtype: object"
            ]
          },
          "metadata": {
            "tags": []
          },
          "execution_count": 262
        }
      ]
    },
    {
      "cell_type": "markdown",
      "metadata": {
        "id": "FUe-_ddjWkX6"
      },
      "source": [
        "# **Remove Punctuation from text Column**\n"
      ]
    },
    {
      "cell_type": "code",
      "metadata": {
        "colab": {
          "base_uri": "https://localhost:8080/"
        },
        "id": "3T82pv_q797g",
        "outputId": "31ccb2c9-8bb3-4f6a-f5b3-3569cbc655fd"
      },
      "source": [
        "df['text'] = df['text'].str.replace('[%s]' % re.escape(string.punctuation), '')\n",
        "df['text'].head(30)"
      ],
      "execution_count": 263,
      "outputs": [
        {
          "output_type": "execute_result",
          "data": {
            "text/plain": [
              "0       watch sports minister kiren rijiju issues st...\n",
              "1      no we should remember very clearly that  just...\n",
              "2      guess who would be the winner of this      te...\n",
              "3     corbyn is too politically intellectual for    ...\n",
              "4     all the best to  for another swimming competit...\n",
              "5       i hope you remembered to wipe the blood off ...\n",
              "6                          latest design of  trophy    \n",
              "7           ‘central park five’ prosecutor elizabeth...\n",
              "8     thanks for your support wow k graffiti has a m...\n",
              "9     by wearing the  over his gloves  has shown his...\n",
              "10    mahendra singh dhonis love for the nation arme...\n",
              "11    i don’t know how much more i can take  is a co...\n",
              "12     winner teamrain  icc run up teamrain  icc man...\n",
              "13                grevious assault on jr doctors in ...\n",
              "14    icc denies request from bcci to allow msd wear...\n",
              "15    good work  keep going just destroy the whole f...\n",
              "16                        wow youre full of it         \n",
              "17          all indian spectators shd hv  in ground    \n",
              "18               what about virat kholi tattoos 😂😂     \n",
              "19                        which is more important      \n",
              "20                                      is gonna crash \n",
              "21    harbor n bay mens boxer short pack of   rs    ...\n",
              "22    icc turns down  request to allow  to continue ...\n",
              "23       icc on dhonis gloves                    vs ...\n",
              "24    senior  of  greeted with applause amp ovation ...\n",
              "25        empty podiums make too much noise            \n",
              "26                                   world cup reality \n",
              "27    disgusting and they don’t change their culture...\n",
              "28    goqii vital  colour display blood pressure mon...\n",
              "29     doctors have already resigned in     nrs   ss...\n",
              "Name: text, dtype: object"
            ]
          },
          "metadata": {
            "tags": []
          },
          "execution_count": 263
        }
      ]
    },
    {
      "cell_type": "markdown",
      "metadata": {
        "id": "uaFvXn4rWrD6"
      },
      "source": [
        "# **Remove Whitespaces from text Column**\n"
      ]
    },
    {
      "cell_type": "code",
      "metadata": {
        "colab": {
          "base_uri": "https://localhost:8080/"
        },
        "id": "FCy5O3pB8NCo",
        "outputId": "aeafa838-1844-4e56-d3a2-3c4d309648d1"
      },
      "source": [
        "df['text'] = df['text'].str.replace('\\s{2,}', '')\n",
        "df['text'].head(30)"
      ],
      "execution_count": 264,
      "outputs": [
        {
          "output_type": "execute_result",
          "data": {
            "text/plain": [
              "0     watch sports minister kiren rijiju issues stat...\n",
              "1      no we should remember very clearly thatjust a...\n",
              "2      guess who would be the winner of thisteam who...\n",
              "3     corbyn is too politically intellectual forcant...\n",
              "4     all the best tofor another swimming competitio...\n",
              "5     i hope you remembered to wipe the blood off of...\n",
              "6                                latest design oftrophy\n",
              "7     ‘central park five’ prosecutor elizabeth leder...\n",
              "8     thanks for your support wow k graffiti has a m...\n",
              "9     by wearing theover his gloveshas shown his lov...\n",
              "10    mahendra singh dhonis love for the nation arme...\n",
              "11    i don’t know how much more i can takeis a comp...\n",
              "12     winner teamrainicc run up teamrainicc man of ...\n",
              "13    grevious assault on jr doctors in all medical ...\n",
              "14    icc denies request from bcci to allow msd wear...\n",
              "15    good workkeep going just destroy the whole fuc...\n",
              "16                                 wow youre full of it\n",
              "17                all indian spectators shd hvin ground\n",
              "18                    what about virat kholi tattoos 😂😂\n",
              "19                              which is more important\n",
              "20                                      is gonna crash \n",
              "21              harbor n bay mens boxer short pack ofrs\n",
              "22    icc turns downrequest to allowto continue wear...\n",
              "23    icc on dhonis glovesvsicc planning the world cup \n",
              "24    seniorofgreeted with applause amp ovation byaf...\n",
              "25                    empty podiums make too much noise\n",
              "26                                   world cup reality \n",
              "27    disgusting and they don’t change their culture...\n",
              "28    goqii vitalcolour display blood pressure monit...\n",
              "29     doctors have already resigned innrssskmnation...\n",
              "Name: text, dtype: object"
            ]
          },
          "metadata": {
            "tags": []
          },
          "execution_count": 264
        }
      ]
    },
    {
      "cell_type": "markdown",
      "metadata": {
        "id": "kt0QnMn-W4Si"
      },
      "source": [
        "# **Remove Stopwords from text Column**\n"
      ]
    },
    {
      "cell_type": "code",
      "metadata": {
        "colab": {
          "base_uri": "https://localhost:8080/"
        },
        "id": "2zSYEigC8aTr",
        "outputId": "eb52b9cb-a031-4941-e8b7-97978d914811"
      },
      "source": [
        "stop_words=stopwords.words(\"english\") \n",
        "from nltk.tokenize import word_tokenize\n",
        "df['text'] = df['text'].apply(word_tokenize)\n",
        "df['text'] = df['text'].apply(lambda x: [item for item in x if item not in stop_words])\n",
        "df['text'].head(30)"
      ],
      "execution_count": 265,
      "outputs": [
        {
          "output_type": "execute_result",
          "data": {
            "text/plain": [
              "0     [watch, sports, minister, kiren, rijiju, issue...\n",
              "1      [remember, clearly, thatjust, admitted, treason]\n",
              "2     [guess, would, winner, thisteam, gets, maximum...\n",
              "3     [corbyn, politically, intellectual, forcant, w...\n",
              "4     [best, tofor, another, swimming, competition, ...\n",
              "5           [hope, remembered, wipe, blood, pic, taken]\n",
              "6                            [latest, design, oftrophy]\n",
              "7     [‘, central, park, five, ’, prosecutor, elizab...\n",
              "8     [thanks, support, wow, k, graffiti, massive, i...\n",
              "9     [wearing, theover, gloveshas, shown, love, amp...\n",
              "10    [mahendra, singh, dhonis, love, nation, armed,...\n",
              "11            [’, know, much, takeis, compulsive, liar]\n",
              "12    [winner, teamrainicc, run, teamrainicc, man, m...\n",
              "13    [grevious, assault, jr, doctors, medical, coll...\n",
              "14    [icc, denies, request, bcci, allow, msd, wear,...\n",
              "15    [good, workkeep, going, destroy, whole, fuckin...\n",
              "16                                   [wow, youre, full]\n",
              "17              [indian, spectators, shd, hvin, ground]\n",
              "18                          [virat, kholi, tattoos, 😂😂]\n",
              "19                                          [important]\n",
              "20                                     [gon, na, crash]\n",
              "21     [harbor, n, bay, mens, boxer, short, pack, ofrs]\n",
              "22    [icc, turns, downrequest, allowto, continue, w...\n",
              "23     [icc, dhonis, glovesvsicc, planning, world, cup]\n",
              "24    [seniorofgreeted, applause, amp, ovation, byaf...\n",
              "25                  [empty, podiums, make, much, noise]\n",
              "26                                [world, cup, reality]\n",
              "27    [disgusting, ’, change, culture, come, vetting...\n",
              "28    [goqii, vitalcolour, display, blood, pressure,...\n",
              "29    [doctors, already, resigned, innrssskmnational...\n",
              "Name: text, dtype: object"
            ]
          },
          "metadata": {
            "tags": []
          },
          "execution_count": 265
        }
      ]
    }
  ]
}