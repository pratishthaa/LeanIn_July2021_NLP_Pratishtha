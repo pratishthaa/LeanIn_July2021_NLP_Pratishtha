{
  "nbformat": 4,
  "nbformat_minor": 0,
  "metadata": {
    "colab": {
      "name": "WordEmbeddings&Word2Vec.ipynb",
      "provenance": [],
      "include_colab_link": true
    },
    "kernelspec": {
      "name": "python3",
      "display_name": "Python 3"
    },
    "language_info": {
      "name": "python"
    }
  },
  "cells": [
    {
      "cell_type": "markdown",
      "metadata": {
        "id": "view-in-github",
        "colab_type": "text"
      },
      "source": [
        "<a href=\"https://colab.research.google.com/github/pratishthaa/LeanIn_July2021_NLP_Pratishtha/blob/main/WordEmbeddings%26Word2Vec.ipynb\" target=\"_parent\"><img src=\"https://colab.research.google.com/assets/colab-badge.svg\" alt=\"Open In Colab\"/></a>"
      ]
    },
    {
      "cell_type": "code",
      "metadata": {
        "colab": {
          "base_uri": "https://localhost:8080/"
        },
        "id": "17t1YXdcXKxp",
        "outputId": "0ddca3cd-c6d7-4ef4-e076-ad45f11a3964"
      },
      "source": [
        "!wget http://mattmahoney.net/dc/text8.zip -O text8.gz\n",
        "!gzip -d text8.gz -f"
      ],
      "execution_count": 1,
      "outputs": [
        {
          "output_type": "stream",
          "text": [
            "--2021-08-24 23:16:05--  http://mattmahoney.net/dc/text8.zip\n",
            "Resolving mattmahoney.net (mattmahoney.net)... 67.195.197.24\n",
            "Connecting to mattmahoney.net (mattmahoney.net)|67.195.197.24|:80... connected.\n",
            "HTTP request sent, awaiting response... 200 OK\n",
            "Length: 31344016 (30M) [application/zip]\n",
            "Saving to: ‘text8.gz’\n",
            "\n",
            "text8.gz            100%[===================>]  29.89M   827KB/s    in 38s     \n",
            "\n",
            "2021-08-24 23:16:43 (809 KB/s) - ‘text8.gz’ saved [31344016/31344016]\n",
            "\n"
          ],
          "name": "stdout"
        }
      ]
    },
    {
      "cell_type": "code",
      "metadata": {
        "colab": {
          "base_uri": "https://localhost:8080/"
        },
        "id": "b-6CyvgmXLm8",
        "outputId": "3a38f7f8-dd80-4469-a463-96fd7941158d"
      },
      "source": [
        "!pip install gensim"
      ],
      "execution_count": 2,
      "outputs": [
        {
          "output_type": "stream",
          "text": [
            "Requirement already satisfied: gensim in /usr/local/lib/python3.7/dist-packages (3.6.0)\n",
            "Requirement already satisfied: numpy>=1.11.3 in /usr/local/lib/python3.7/dist-packages (from gensim) (1.19.5)\n",
            "Requirement already satisfied: six>=1.5.0 in /usr/local/lib/python3.7/dist-packages (from gensim) (1.15.0)\n",
            "Requirement already satisfied: scipy>=0.18.1 in /usr/local/lib/python3.7/dist-packages (from gensim) (1.4.1)\n",
            "Requirement already satisfied: smart-open>=1.2.1 in /usr/local/lib/python3.7/dist-packages (from gensim) (5.1.0)\n"
          ],
          "name": "stdout"
        }
      ]
    },
    {
      "cell_type": "code",
      "metadata": {
        "id": "LJtQljqYXc_6"
      },
      "source": [
        "from gensim import utils\n",
        "\n",
        "with open('/content/text8','r') as file:\n",
        "  documents = file.readlines()\n",
        "\n",
        "class MyCorpus(object):\n",
        "    def __iter__(self): \n",
        "        for line in documents:\n",
        "            yield utils.simple_preprocess(line)"
      ],
      "execution_count": 3,
      "outputs": []
    },
    {
      "cell_type": "code",
      "metadata": {
        "id": "DM_wnlDAXjnv"
      },
      "source": [
        "import gensim.models\n",
        "sentences = MyCorpus()\n",
        "skipGramModel = gensim.models.Word2Vec(sentences=sentences,\n",
        "                                       sg = 1,\n",
        "                                       window = 4,\n",
        "                                       size=90,\n",
        "                                       min_count = 2,\n",
        "                                       workers=25,\n",
        "                                       iter = 15)"
      ],
      "execution_count": 10,
      "outputs": []
    },
    {
      "cell_type": "code",
      "metadata": {
        "colab": {
          "base_uri": "https://localhost:8080/"
        },
        "id": "PpwitBzkX6G7",
        "outputId": "fba47cc7-4d98-4d6f-c7da-6499500b8a35"
      },
      "source": [
        "len(skipGramModel.wv.vocab.keys())"
      ],
      "execution_count": 11,
      "outputs": [
        {
          "output_type": "execute_result",
          "data": {
            "text/plain": [
              "134420"
            ]
          },
          "metadata": {},
          "execution_count": 11
        }
      ]
    },
    {
      "cell_type": "code",
      "metadata": {
        "colab": {
          "base_uri": "https://localhost:8080/"
        },
        "id": "RXSwymy3Y0jg",
        "outputId": "39ef099d-cc96-4b4d-db32-22f1c699b1d4"
      },
      "source": [
        "# get vector for a word\n",
        "skipGramModel.wv.get_vector('queen')"
      ],
      "execution_count": 12,
      "outputs": [
        {
          "output_type": "execute_result",
          "data": {
            "text/plain": [
              "array([ 0.00121303,  0.00088416,  0.00051786,  0.00162571,  0.00098359,\n",
              "        0.00326862, -0.00211085, -0.00425569,  0.00126064, -0.00461397,\n",
              "        0.00114864,  0.00163792, -0.00469728,  0.00146719, -0.00424508,\n",
              "        0.00279484, -0.00374379,  0.00445992,  0.00314739, -0.00368749,\n",
              "       -0.00248324, -0.00254023,  0.00366734, -0.00155877, -0.00158461,\n",
              "        0.00499278, -0.00493964, -0.00532205, -0.0033755 , -0.00475547,\n",
              "        0.00553517, -0.00024856, -0.00142492, -0.0019533 , -0.004046  ,\n",
              "       -0.00073715,  0.00015198, -0.00253802, -0.00322842, -0.00458897,\n",
              "       -0.00293754, -0.00283425,  0.00046983, -0.00204657,  0.00507306,\n",
              "        0.00357714, -0.00386224, -0.00377692, -0.00359664, -0.00295813,\n",
              "       -0.00368833, -0.0032582 ,  0.00348352, -0.00361494,  0.00363652,\n",
              "       -0.00419293,  0.00130688,  0.00512674, -0.00356039, -0.00103843,\n",
              "        0.00193515, -0.00038526, -0.00084211, -0.00244068, -0.00123132,\n",
              "        0.00550336,  0.00423718, -0.00491394,  0.00192782,  0.0046017 ,\n",
              "       -0.00462268,  0.00036649, -0.00546701, -0.00055511,  0.00522767,\n",
              "       -0.00067625,  0.00221754,  0.00101621,  0.00110502,  0.00401159,\n",
              "        0.00317752,  0.0002828 ,  0.0024585 ,  0.00528166, -0.00199411,\n",
              "       -0.00152299,  0.00255122, -0.00301136, -0.00069499,  0.00223438],\n",
              "      dtype=float32)"
            ]
          },
          "metadata": {},
          "execution_count": 12
        }
      ]
    },
    {
      "cell_type": "code",
      "metadata": {
        "colab": {
          "base_uri": "https://localhost:8080/"
        },
        "id": "O0n72klwY0dQ",
        "outputId": "575b1ae5-b47c-49a1-e82e-459e2c12703b"
      },
      "source": [
        "skipGramModel.wv.most_similar('queen',topn=2)"
      ],
      "execution_count": 13,
      "outputs": [
        {
          "output_type": "execute_result",
          "data": {
            "text/plain": [
              "[('cranborne', 0.4673506021499634), ('saba', 0.44220322370529175)]"
            ]
          },
          "metadata": {},
          "execution_count": 13
        }
      ]
    },
    {
      "cell_type": "code",
      "metadata": {
        "id": "rN7QBVOEeoaN"
      },
      "source": [
        ""
      ],
      "execution_count": 7,
      "outputs": []
    },
    {
      "cell_type": "code",
      "metadata": {
        "id": "ZfZXQ329Y0Z6",
        "colab": {
          "base_uri": "https://localhost:8080/"
        },
        "outputId": "9735453f-b43d-4ed3-c666-6bf9db4be0f1"
      },
      "source": [
        "import gensim.downloader as api\n",
        "\n",
        "model = api.load('word2vec-google-news-300')"
      ],
      "execution_count": 14,
      "outputs": [
        {
          "output_type": "stream",
          "text": [
            "[==================================================] 100.0% 1662.8/1662.8MB downloaded\n"
          ],
          "name": "stdout"
        }
      ]
    },
    {
      "cell_type": "code",
      "metadata": {
        "id": "fMfeQ07Acyh6"
      },
      "source": [
        "fileObject = open(\"/content/wordsim_similarity_goldstandard.txt\")\n",
        "model = fileObject.read()"
      ],
      "execution_count": 15,
      "outputs": []
    },
    {
      "cell_type": "code",
      "metadata": {
        "colab": {
          "base_uri": "https://localhost:8080/"
        },
        "id": "Vcm0s88KY0TO",
        "outputId": "9cd3ce97-fdd1-4282-c9c2-3a5b1c09bb8b"
      },
      "source": [
        "!pip install sklearn"
      ],
      "execution_count": 16,
      "outputs": [
        {
          "output_type": "stream",
          "text": [
            "Requirement already satisfied: sklearn in /usr/local/lib/python3.7/dist-packages (0.0)\n",
            "Requirement already satisfied: scikit-learn in /usr/local/lib/python3.7/dist-packages (from sklearn) (0.22.2.post1)\n",
            "Requirement already satisfied: scipy>=0.17.0 in /usr/local/lib/python3.7/dist-packages (from scikit-learn->sklearn) (1.4.1)\n",
            "Requirement already satisfied: numpy>=1.11.0 in /usr/local/lib/python3.7/dist-packages (from scikit-learn->sklearn) (1.19.5)\n",
            "Requirement already satisfied: joblib>=0.11 in /usr/local/lib/python3.7/dist-packages (from scikit-learn->sklearn) (1.0.1)\n"
          ],
          "name": "stdout"
        }
      ]
    },
    {
      "cell_type": "code",
      "metadata": {
        "colab": {
          "base_uri": "https://localhost:8080/",
          "height": 397
        },
        "id": "KR8ySdHlY0Pt",
        "outputId": "c38b5fbf-60ed-41c5-bf4c-fa3aac67cadc"
      },
      "source": [
        "from sklearn.metrics.pairwise import cosine_similarity\n",
        "\n",
        "def get_word_similarity(word_1,word_2,model):\n",
        "  word_1_vector = model.get_vector(word_1)\n",
        "  word_2_vector = model.get_vector(word_2)\n",
        "\n",
        "  similarity = cosine_similarity(word_1_vector.reshape(1,-1),word_2_vector.reshape(1,-1))[0][0]\n",
        "  return similarity\n",
        "\n",
        "print(\"*\"*60)\n",
        "print('Similarity between {} and {} is {}'.format('easy','easiest',get_word_similarity('easy','easiest',model)))\n",
        "print('Similarity between {} and {} is {}'.format('easy','difficult',get_word_similarity('easy','difficult',model)))\n",
        "print(\"*\"*60)\n",
        "\n",
        "print('Similarity between {} and {} is {}'.format('india','rupee',get_word_similarity('india','rupee',model)))\n",
        "print('Similarity between {} and {} is {}'.format('india','dollar',get_word_similarity('india','dollar',model)))\n",
        "print(\"*\"*60)\n",
        "\n",
        "print('Similarity between {} and {} is {}'.format('mouse','mice',get_word_similarity('mouse','mice',model)))\n",
        "print('Similarity between {} and {} is {}'.format('mouse','cat',get_word_similarity('mouse','cat',model)))"
      ],
      "execution_count": 21,
      "outputs": [
        {
          "output_type": "stream",
          "text": [
            "************************************************************\n"
          ],
          "name": "stdout"
        },
        {
          "output_type": "error",
          "ename": "AttributeError",
          "evalue": "ignored",
          "traceback": [
            "\u001b[0;31m---------------------------------------------------------------------------\u001b[0m",
            "\u001b[0;31mAttributeError\u001b[0m                            Traceback (most recent call last)",
            "\u001b[0;32m<ipython-input-21-4104fd25eac2>\u001b[0m in \u001b[0;36m<module>\u001b[0;34m()\u001b[0m\n\u001b[1;32m     11\u001b[0m \u001b[0;34m\u001b[0m\u001b[0m\n\u001b[1;32m     12\u001b[0m \u001b[0mprint\u001b[0m\u001b[0;34m(\u001b[0m\u001b[0;34m\"*\"\u001b[0m\u001b[0;34m*\u001b[0m\u001b[0;36m60\u001b[0m\u001b[0;34m)\u001b[0m\u001b[0;34m\u001b[0m\u001b[0;34m\u001b[0m\u001b[0m\n\u001b[0;32m---> 13\u001b[0;31m \u001b[0mprint\u001b[0m\u001b[0;34m(\u001b[0m\u001b[0;34m'Similarity between {} and {} is {}'\u001b[0m\u001b[0;34m.\u001b[0m\u001b[0mformat\u001b[0m\u001b[0;34m(\u001b[0m\u001b[0;34m'easy'\u001b[0m\u001b[0;34m,\u001b[0m\u001b[0;34m'easiest'\u001b[0m\u001b[0;34m,\u001b[0m\u001b[0mget_word_similarity\u001b[0m\u001b[0;34m(\u001b[0m\u001b[0;34m'easy'\u001b[0m\u001b[0;34m,\u001b[0m\u001b[0;34m'easiest'\u001b[0m\u001b[0;34m,\u001b[0m\u001b[0mmodel\u001b[0m\u001b[0;34m)\u001b[0m\u001b[0;34m)\u001b[0m\u001b[0;34m)\u001b[0m\u001b[0;34m\u001b[0m\u001b[0;34m\u001b[0m\u001b[0m\n\u001b[0m\u001b[1;32m     14\u001b[0m \u001b[0mprint\u001b[0m\u001b[0;34m(\u001b[0m\u001b[0;34m'Similarity between {} and {} is {}'\u001b[0m\u001b[0;34m.\u001b[0m\u001b[0mformat\u001b[0m\u001b[0;34m(\u001b[0m\u001b[0;34m'easy'\u001b[0m\u001b[0;34m,\u001b[0m\u001b[0;34m'difficult'\u001b[0m\u001b[0;34m,\u001b[0m\u001b[0mget_word_similarity\u001b[0m\u001b[0;34m(\u001b[0m\u001b[0;34m'easy'\u001b[0m\u001b[0;34m,\u001b[0m\u001b[0;34m'difficult'\u001b[0m\u001b[0;34m,\u001b[0m\u001b[0mmodel\u001b[0m\u001b[0;34m)\u001b[0m\u001b[0;34m)\u001b[0m\u001b[0;34m)\u001b[0m\u001b[0;34m\u001b[0m\u001b[0;34m\u001b[0m\u001b[0m\n\u001b[1;32m     15\u001b[0m \u001b[0mprint\u001b[0m\u001b[0;34m(\u001b[0m\u001b[0;34m\"*\"\u001b[0m\u001b[0;34m*\u001b[0m\u001b[0;36m60\u001b[0m\u001b[0;34m)\u001b[0m\u001b[0;34m\u001b[0m\u001b[0;34m\u001b[0m\u001b[0m\n",
            "\u001b[0;32m<ipython-input-21-4104fd25eac2>\u001b[0m in \u001b[0;36mget_word_similarity\u001b[0;34m(word_1, word_2, model)\u001b[0m\n\u001b[1;32m      4\u001b[0m \u001b[0;34m\u001b[0m\u001b[0m\n\u001b[1;32m      5\u001b[0m \u001b[0;32mdef\u001b[0m \u001b[0mget_word_similarity\u001b[0m\u001b[0;34m(\u001b[0m\u001b[0mword_1\u001b[0m\u001b[0;34m,\u001b[0m\u001b[0mword_2\u001b[0m\u001b[0;34m,\u001b[0m\u001b[0mmodel\u001b[0m\u001b[0;34m)\u001b[0m\u001b[0;34m:\u001b[0m\u001b[0;34m\u001b[0m\u001b[0;34m\u001b[0m\u001b[0m\n\u001b[0;32m----> 6\u001b[0;31m   \u001b[0mword_1_vector\u001b[0m \u001b[0;34m=\u001b[0m \u001b[0mmodel\u001b[0m\u001b[0;34m.\u001b[0m\u001b[0mget_vector\u001b[0m\u001b[0;34m(\u001b[0m\u001b[0mword_1\u001b[0m\u001b[0;34m)\u001b[0m\u001b[0;34m\u001b[0m\u001b[0;34m\u001b[0m\u001b[0m\n\u001b[0m\u001b[1;32m      7\u001b[0m   \u001b[0mword_2_vector\u001b[0m \u001b[0;34m=\u001b[0m \u001b[0mmodel\u001b[0m\u001b[0;34m.\u001b[0m\u001b[0mget_vector\u001b[0m\u001b[0;34m(\u001b[0m\u001b[0mword_2\u001b[0m\u001b[0;34m)\u001b[0m\u001b[0;34m\u001b[0m\u001b[0;34m\u001b[0m\u001b[0m\n\u001b[1;32m      8\u001b[0m \u001b[0;34m\u001b[0m\u001b[0m\n",
            "\u001b[0;31mAttributeError\u001b[0m: 'str' object has no attribute 'get_vector'"
          ]
        }
      ]
    },
    {
      "cell_type": "code",
      "metadata": {
        "id": "fUSTH0gIY0IG"
      },
      "source": [
        ""
      ],
      "execution_count": null,
      "outputs": []
    },
    {
      "cell_type": "code",
      "metadata": {
        "id": "rC2-Ue1tYz70"
      },
      "source": [
        ""
      ],
      "execution_count": null,
      "outputs": []
    },
    {
      "cell_type": "code",
      "metadata": {
        "id": "Ec1swa9LYyUu"
      },
      "source": [
        ""
      ],
      "execution_count": null,
      "outputs": []
    }
  ]
}